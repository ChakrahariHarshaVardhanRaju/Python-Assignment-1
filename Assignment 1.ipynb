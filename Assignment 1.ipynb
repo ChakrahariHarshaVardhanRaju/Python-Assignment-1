{
 "cells": [
  {
   "cell_type": "markdown",
   "id": "637b47a5",
   "metadata": {},
   "source": [
    "## Programming Assignment_1\n",
    "-------------"
   ]
  },
  {
   "cell_type": "markdown",
   "id": "0c647dbe",
   "metadata": {},
   "source": [
    "### 1. Write a Python program to print \"Hello Python\"?"
   ]
  },
  {
   "cell_type": "code",
   "execution_count": 1,
   "id": "df13b730",
   "metadata": {},
   "outputs": [
    {
     "name": "stdout",
     "output_type": "stream",
     "text": [
      "Hello Python\n"
     ]
    }
   ],
   "source": [
    "print(\"Hello Python\")"
   ]
  },
  {
   "cell_type": "markdown",
   "id": "fc18a6cd",
   "metadata": {},
   "source": [
    "### 2. Write a Python program to do arithmetical operations addition and division.?\n"
   ]
  },
  {
   "cell_type": "code",
   "execution_count": 2,
   "id": "ebe703e5",
   "metadata": {},
   "outputs": [
    {
     "name": "stdout",
     "output_type": "stream",
     "text": [
      "Addition of 100 and 200 is: 300\n",
      "Division of 200 and 100 is: 2.0\n"
     ]
    }
   ],
   "source": [
    "# Addition operation\n",
    "num1 = 100\n",
    "num2 = 200\n",
    "result = num1 + num2\n",
    "print(\"Addition of\", num1, \"and\", num2, \"is:\", result)\n",
    "\n",
    "# Division operation\n",
    "num3 = 200\n",
    "num4 = 100\n",
    "result = num3 / num4\n",
    "print(\"Division of\", num3, \"and\", num4, \"is:\", result)"
   ]
  },
  {
   "cell_type": "markdown",
   "id": "af6e2429",
   "metadata": {},
   "source": [
    "### 3. Write a Python program to find the area of a triangle?\n"
   ]
  },
  {
   "cell_type": "code",
   "execution_count": 5,
   "id": "d8eb45ce",
   "metadata": {},
   "outputs": [
    {
     "name": "stdout",
     "output_type": "stream",
     "text": [
      "Enter the base of the triangle:20 20\n",
      "Enter the height of the triangle:20 20\n",
      "Area of the triangle is: 200.0\n"
     ]
    }
   ],
   "source": [
    "# Area of a triangle\n",
    "base = float(input(\"Enter the base of the triangle:20 \"))\n",
    "height = float(input(\"Enter the height of the triangle:20 \"))\n",
    "area = 0.5 * base * height\n",
    "print(\"Area of the triangle is:\", area)"
   ]
  },
  {
   "cell_type": "markdown",
   "id": "b8140061",
   "metadata": {},
   "source": [
    "### 4. Write a Python program to swap two variables?\n"
   ]
  },
  {
   "cell_type": "code",
   "execution_count": 6,
   "id": "b5389f41",
   "metadata": {},
   "outputs": [
    {
     "name": "stdout",
     "output_type": "stream",
     "text": [
      "After swapping: x = 55 and y = 30\n"
     ]
    }
   ],
   "source": [
    "# Swapping two variables\n",
    "x = 30\n",
    "y = 55\n",
    "\n",
    "x, y = y, x\n",
    "\n",
    "print(\"After swapping: x =\", x, \"and y =\", y)"
   ]
  },
  {
   "cell_type": "markdown",
   "id": "3f8054c1",
   "metadata": {},
   "source": [
    "### 5. Write a Python program to generate a random number?\n"
   ]
  },
  {
   "cell_type": "code",
   "execution_count": 7,
   "id": "d3cb33d1",
   "metadata": {},
   "outputs": [
    {
     "name": "stdout",
     "output_type": "stream",
     "text": [
      "Random number: 62\n"
     ]
    }
   ],
   "source": [
    "import random\n",
    "\n",
    "random_num = random.randint(1, 100)\n",
    "print(\"Random number:\", random_num)"
   ]
  },
  {
   "cell_type": "code",
   "execution_count": null,
   "id": "ebb4703d",
   "metadata": {},
   "outputs": [],
   "source": []
  }
 ],
 "metadata": {
  "kernelspec": {
   "display_name": "Python 3 (ipykernel)",
   "language": "python",
   "name": "python3"
  },
  "language_info": {
   "codemirror_mode": {
    "name": "ipython",
    "version": 3
   },
   "file_extension": ".py",
   "mimetype": "text/x-python",
   "name": "python",
   "nbconvert_exporter": "python",
   "pygments_lexer": "ipython3",
   "version": "3.9.13"
  }
 },
 "nbformat": 4,
 "nbformat_minor": 5
}
